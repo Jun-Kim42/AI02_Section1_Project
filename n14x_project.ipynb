{
  "nbformat": 4,
  "nbformat_minor": 0,
  "metadata": {
    "colab": {
      "name": "n14x_project.ipynb",
      "private_outputs": true,
      "provenance": [],
      "toc_visible": true
    },
    "kernelspec": {
      "name": "python3",
      "display_name": "Python 3"
    },
    "language_info": {
      "name": "python"
    }
  },
  "cells": [
    {
      "cell_type": "code",
      "metadata": {
        "id": "PbUOWMFkt0V9"
      },
      "source": [
        "import pandas as pd\n",
        "import numpy as np\n",
        "import matplotlib.ticker as ticker\n",
        "import seaborn as sns\n",
        "import matplotlib.pyplot as plt\n",
        "import scipy.stats as stats\n",
        "\n",
        "\n",
        "url = '/content/drive/MyDrive/Colab Notebooks/문제/excel/vgames2.csv'\n",
        "df = pd.read_csv(url, index_col = 0)\n",
        "\n",
        "# Year 정리\n",
        "cond1 = (df['Year'] < 50)\n",
        "cond2 = (df['Year'] >50) & (df['Year'] < 100)\n",
        "\n",
        "df['Year'].loc[cond1] = df['Year'].loc[cond1] + 2000\n",
        "df['Year'].loc[cond2] = df['Year'].loc[cond2] + 1900\n",
        "df = df.loc[~(df['Year'] >= 2017)]\n",
        "df['Year'].isna().sum() #na = 271\n",
        "\n",
        "#sales 값 정리\n",
        "#remove M, to_numeric\n",
        "#remove K, to_numeric, *1/1000\n",
        "def sales_to_numeric(col):\n",
        "    col = col.replace('M','',regex = True\n",
        "                      ).apply(pd.to_numeric,errors = 'ignore')\n",
        "    condition_K = col.str.contains('K', na = False)\n",
        "    contain_k = col.loc[condition_K]\n",
        "    col.loc[condition_K] = contain_k.replace('K', '',regex = True\n",
        "                                                                   ).apply(pd.to_numeric)*0.001\n",
        "    \n",
        "    return col\n",
        "\n",
        "df['NA_Sales'] = sales_to_numeric(df['NA_Sales'])   \n",
        "df['EU_Sales'] = sales_to_numeric(df['EU_Sales'])\n",
        "df['JP_Sales'] = sales_to_numeric(df['JP_Sales'])\n",
        "df['Other_Sales'] = sales_to_numeric(df['Other_Sales'])\n",
        "\n",
        "df['Total_Sales'] = df['NA_Sales'] + df['EU_Sales'] + df['JP_Sales'] + df['Other_Sales']\n",
        "df.iloc[:,5:] = df.iloc[:,5:].astype(float)\n",
        "\n",
        "#Publischer df['Publisher'].loc[(df['Publisher'] == 'Unknown')]= 203\n",
        "#Publischer na = 58\n",
        "#replace na ,Unknown\n",
        "df['Publisher'] = df['Publisher'].fillna('Unknown')\n",
        "\n",
        "\n",
        "#중복 제거 (Madden NFL 13)\n",
        "df.drop_duplicates(['Name', 'Platform','Year'], keep = 'first', inplace = True)\n",
        "#Year 와 Genre의 na 값 drop\n",
        "df.dropna(inplace = True)\n",
        "df.reset_index(drop= True, inplace = True)"
      ],
      "execution_count": null,
      "outputs": []
    },
    {
      "cell_type": "code",
      "metadata": {
        "id": "M2i6mmoUlgAN"
      },
      "source": [
        "np.corrcoef(df['Total_Sales'],df['JP_Sales'])\n",
        "#>> 우선공략은 북미\n",
        "# 왜 일본은 상관계수가 낮은가?\n",
        "# 우선 시장이 상대적으로 작다.\n",
        "# 그리고 선호장르영역이 다른 지역과 많이 다르다.\n"
      ],
      "execution_count": null,
      "outputs": []
    },
    {
      "cell_type": "code",
      "metadata": {
        "id": "ZJZQmc3b5sZx"
      },
      "source": [
        "df_Genre = df.pivot_table(values= 'Total_Sales', index = 'Genre',aggfunc= sum)\n",
        "df_Genre['ratio'] = df_Genre['Total_Sales']/df_Genre['Total_Sales'].sum()\n",
        "df_Genre"
      ],
      "execution_count": null,
      "outputs": []
    },
    {
      "cell_type": "markdown",
      "metadata": {
        "id": "wo246UhC2zAa"
      },
      "source": [
        "#1.지역에 따라서 선호하는 게임 장르가 다를까 (시각화, 카이스퀘어?)"
      ]
    },
    {
      "cell_type": "code",
      "metadata": {
        "id": "GK5avgAxOMSS"
      },
      "source": [
        "'''\n",
        "def Genre_pie_chart(col_name):\n",
        "    df_Genre = df.pivot_table(values= col_name, index = 'Genre',aggfunc= sum)\n",
        "    df_Genre = df_Genre.sort_values(by = col_name)\n",
        "    df_Genre_last = df_Genre.iloc[0:5]\n",
        "\n",
        "\n",
        "    df_Genre.drop(df_Genre_last.index, inplace= True)\n",
        "    df_Genre = df_Genre.T\n",
        "    df_Genre['etc'] = df_Genre_last.sum()\n",
        "    df_Genre = df_Genre.T\n",
        "\n",
        "    G = df_Genre.plot.pie(y = col_name,\n",
        "                          figsize = (8, 5.5),\n",
        "                          autopct = \"%.2f%%\",\n",
        "                          colors =sns.color_palette(\"hls\", 8))\n",
        "    plt.title(col_name)\n",
        "    plt.legend(loc='center left', bbox_to_anchor=(1.2, 0.5))\n",
        "    plt.show()\n",
        "    return\n",
        "\n",
        "\n",
        "\n",
        "Genre_pie_chart('NA_Sales')\n",
        "Genre_pie_chart('EU_Sales')\n",
        "Genre_pie_chart('JP_Sales')\n",
        "Genre_pie_chart('Other_Sales')\n",
        "\n",
        "#비율을 보여주려고 했는데 좋은 선택이 아니었다.\n",
        "#우선 범주가 너무 많다 12개.\n",
        "#그리고 범주별 색 설정이 복잡해진다. 범주가 많기 때문이다.\n",
        "#또 범주별로 색을 지정해줘야 하는데 쉽게 가려다가 더 어렵게 꼬였다.\n",
        "'''"
      ],
      "execution_count": null,
      "outputs": []
    },
    {
      "cell_type": "code",
      "metadata": {
        "id": "PNGwdk1KTNlA"
      },
      "source": [
        "def Genre_top(col_name): #지역마다 인기장르 4개 고르기\n",
        "    df_Genre = df.pivot_table(values= col_name, index = 'Genre',aggfunc= sum)\n",
        "    df_Genre = df_Genre.sort_values(by = col_name, ascending= False)\n",
        "    df_Genre_top = df_Genre.iloc[0:4]\n",
        "\n",
        "    return df_Genre_top\n",
        "\n",
        "top_NA = Genre_top('NA_Sales')\n",
        "top_EU = Genre_top('EU_Sales')\n",
        "top_JP = Genre_top('JP_Sales')\n",
        "top_Other = Genre_top('Other_Sales')\n",
        "\n",
        "#인기장르 시각화\n",
        "top_Total = pd.concat([top_NA, top_EU, top_JP,top_Other], axis = 1)\n",
        "top_Total = top_Total.reset_index(drop= False)\n",
        "top_Total.columns = ['Genre','NA_Sales', 'EU_Sales', 'JP_Sales', 'Other_Sales']\n",
        "tidy = top_Total.melt(id_vars= 'Genre'  ).dropna()\n",
        "tidy.columns = ['Genre', 'location','Sales' ]\n",
        "sns.barplot(data = tidy, x = 'location', y ='Sales', hue = 'Genre',)"
      ],
      "execution_count": null,
      "outputs": []
    },
    {
      "cell_type": "code",
      "metadata": {
        "id": "W0iz_AJRCaPm"
      },
      "source": [
        "#장르 분포 chi square 검정 (NA EU Other)\n",
        "\n",
        "df_Genre2 = df.pivot_table(values= ['NA_Sales', 'EU_Sales', 'Other_Sales'],\n",
        "                          index = 'Genre',\n",
        "                          aggfunc= sum)\n",
        "stats.chi2_contingency(df_Genre2) # p = 0.023\n",
        "#유의수준 0.05에서 분포는 서로 다르다고 보는 대안가설 채택"
      ],
      "execution_count": null,
      "outputs": []
    },
    {
      "cell_type": "code",
      "metadata": {
        "id": "37YRPBMfEfXj"
      },
      "source": [
        "#장르 분포 chi square 검정 (NA EU Other)\n",
        "df_Genre3 = df.pivot_table(values= ['NA_Sales', 'EU_Sales'],\n",
        "                          index = 'Genre',\n",
        "                          aggfunc= sum)\n",
        "stats.chi2_contingency(df_Genre3) # p = 0.031 다르다고 본다."
      ],
      "execution_count": null,
      "outputs": []
    },
    {
      "cell_type": "code",
      "metadata": {
        "id": "W_7NLjY_B2qP"
      },
      "source": [
        "카이스퀘어 굳이 써야할까? \n",
        "1. 일본은 충분히 다르다.\n",
        "궁금한 것은 \n",
        ">> NA EU OTHER >>다르다!\n",
        ">>.NA EU>> 다르다!"
      ],
      "execution_count": null,
      "outputs": []
    },
    {
      "cell_type": "code",
      "metadata": {
        "id": "w6MEMVDVBqJV"
      },
      "source": [
        "'''\n",
        "g4 = sns.barplot(data=df, x = 'Genre', y = 'Other_Sales', estimator= sum)\n",
        "g4.set_xticklabels(g4.get_xticklabels(), rotation=45);\n",
        "'''\n",
        "#비교해서 보기 불편하다."
      ],
      "execution_count": null,
      "outputs": []
    },
    {
      "cell_type": "markdown",
      "metadata": {
        "id": "5wL9VAyxCh4F"
      },
      "source": [
        "#2.연도별 게임의 트렌드가 있을까"
      ]
    },
    {
      "cell_type": "code",
      "metadata": {
        "id": "gBw3j3-b0urM"
      },
      "source": [
        "#연도 뽑아내기\n",
        "Genre_pivot = df.pivot_table(values= 'Total_Sales' ,index = 'Genre', columns = 'Year',aggfunc= sum).fillna(0)\n",
        "Genre_pivot = Genre_pivot.iloc[:,20:] "
      ],
      "execution_count": null,
      "outputs": []
    },
    {
      "cell_type": "code",
      "metadata": {
        "id": "DcPfQ2r6Ppf2"
      },
      "source": [
        "#그래프 그리기 1\n",
        "from scipy import interpolate\n",
        "from collections import defaultdict\n",
        "import matplotlib.pyplot as plt\n",
        "import seaborn as sns\n",
        "import numpy as np\n",
        "%matplotlib inline\n",
        "\n",
        "def add_widths(x, y, width=0.1):\n",
        "    \"\"\" Adds flat parts to widths \"\"\"\n",
        "    new_x = []\n",
        "    new_y = []\n",
        "    for i,j in zip(x,y):\n",
        "        new_x += [i-width, i, i+width]\n",
        "        new_y += [j, j, j]\n",
        "    return new_x, new_y\n",
        "\n",
        "def bumpsplot(dataframe, color_dict=defaultdict(lambda: \"k\"), \n",
        "                         linewidth_dict=defaultdict(lambda: 1),\n",
        "                         labels=[]):\n",
        "    r = dataframe.rank(method=\"first\")\n",
        "    r = (r - r.max() + r.max().max()).fillna(0) # Sets NAs to 0 in rank\n",
        "    for i in r.index:\n",
        "        x = np.arange(r.shape[1])\n",
        "        y = r.loc[i].values\n",
        "        color = color_dict[i]\n",
        "        lw = linewidth_dict[i]\n",
        "        x, y = add_widths(x, y, width=0.1)\n",
        "        xs = np.linspace(0, x[-1], num=1024)\n",
        "        plt.plot(xs, interpolate.PchipInterpolator(x, y)(xs), color=color, linewidth=lw, alpha=0.5)\n",
        "        if i in labels:\n",
        "            plt.text(x[0] - 0.1, y[0], s=i, horizontalalignment=\"right\", verticalalignment=\"center\", color=color)\n",
        "            plt.text(x[-1] + 0.1, y[-1], s=i, horizontalalignment=\"left\", verticalalignment=\"center\", color=color)\n",
        "    plt.xticks(np.arange(r.shape[1]), dataframe.columns)"
      ],
      "execution_count": null,
      "outputs": []
    },
    {
      "cell_type": "code",
      "metadata": {
        "id": "QThB9WH1QF_x"
      },
      "source": [
        "#그래프 그리기 2\n",
        "Genre_colors = defaultdict(lambda: \"grey\")\n",
        "lw = defaultdict(lambda: 1)\n",
        "\n",
        "top_Genre = Genre_pivot.iloc[:, 0].dropna().sort_values().index\n",
        "for i,c in enumerate(top_Genre):\n",
        "    Genre_colors[c] = sns.color_palette(\"husl\", n_colors=len(top_Genre))[i]\n",
        "    lw[c] = 4\n",
        "\n",
        "plt.figure(figsize=(24,12))\n",
        "bumpsplot(Genre_pivot, color_dict=Genre_colors, linewidth_dict=lw, labels=top_Genre)\n",
        "plt.gca().get_yaxis().set_visible(False)"
      ],
      "execution_count": null,
      "outputs": []
    },
    {
      "cell_type": "code",
      "metadata": {
        "id": "FSt3MjCXClBc"
      },
      "source": [
        "'''\n",
        "#line은 너무 난잡하다\n",
        "plt.figure(figsize = (30,20))\n",
        "df1996 = df.loc[df['Year']>=1996]\n",
        "sns.lineplot(data = df, x = 'Year', y = 'Total_Sales', hue = 'Genre', ci = None, estimator= sum)\n",
        "'''"
      ],
      "execution_count": null,
      "outputs": []
    },
    {
      "cell_type": "code",
      "metadata": {
        "id": "9DM9es3TdFVv"
      },
      "source": [
        "'''\n",
        "#장르가 너무 많다. 다른 방법..추천\n",
        "g22 = sns.FacetGrid(df, row = 'Genre')\n",
        "g22.map(sns.lineplot,'Year','Total_Sales', ci = None, estimator = sum)\n",
        "'''"
      ],
      "execution_count": null,
      "outputs": []
    },
    {
      "cell_type": "code",
      "metadata": {
        "id": "BYiNDeYRFFPl"
      },
      "source": [
        "'''\n",
        "sns.lineplot(data = df, x = \"Year\", y = 'Total_Sales',ci = None)\n",
        "#게임당 평균 판매량은 감소,횡보\n",
        "'''"
      ],
      "execution_count": null,
      "outputs": []
    },
    {
      "cell_type": "code",
      "metadata": {
        "id": "7i34wd2bIjCD"
      },
      "source": [
        "# 전체시장이 감소중\n",
        "fig2 = plt.figure(figsize= (10,7))\n",
        "ax = sns.barplot(data = df, x = \"Year\", y = 'Total_Sales',ci = None, estimator= sum)\n",
        "ax.set_xticklabels(ax.get_xticklabels(), rotation=45);\n",
        "\n",
        "plt.show()"
      ],
      "execution_count": null,
      "outputs": []
    },
    {
      "cell_type": "code",
      "metadata": {
        "id": "A0bptfOK-XaA"
      },
      "source": [
        "'''\n",
        "sns.countplot(data = df, x = 'Year')\n",
        "#게임 갯수는 시장상황에 맞게 늘어나고 줄어들음\n",
        "'''"
      ],
      "execution_count": null,
      "outputs": []
    },
    {
      "cell_type": "code",
      "metadata": {
        "id": "I-BQPC721NwL"
      },
      "source": [
        "'''\n",
        "#정규성은 찾아보기 힘들다.\n",
        "from scipy import stats\n",
        "\n",
        "stats.normaltest(df['EU_Sales'])\n",
        "'''"
      ],
      "execution_count": null,
      "outputs": []
    },
    {
      "cell_type": "markdown",
      "metadata": {
        "id": "Eh7BIz0oEXYR"
      },
      "source": [
        "#3.출고량이 높은 게임에 대한 분석 및 시각화 프로세스"
      ]
    },
    {
      "cell_type": "code",
      "metadata": {
        "id": "ZeVJ51_1ken6"
      },
      "source": [
        "#이름은 같지만 플랫폼이 다른 게임들의 total Sales 구하기\n",
        "df_without_dupl = df.loc[~df.duplicated(['Name'], keep = False)].sort_values(by = 'Name')\n",
        "df_dupl = df.loc[df.duplicated(['Name'], keep = False)].sort_values(by = 'Name')\n",
        "df_dupl_grouped = df_dupl.groupby(df_dupl['Name']).sum().reset_index()\n",
        "df_dupl_Sales = df_dupl_grouped[['Name', 'Total_Sales']]\n",
        "df_without_dupl_Sales = df_without_dupl[['Name', 'Total_Sales']]\n",
        "\n",
        "df_Sales = pd.concat([df_without_dupl_Sales, df_dupl_Sales])\n",
        "df_Sales = df_Sales.sort_values(by = 'Total_Sales', ascending= False).reset_index(drop = True)\n"
      ],
      "execution_count": null,
      "outputs": []
    },
    {
      "cell_type": "code",
      "metadata": {
        "id": "pgpKwU7yqSpj"
      },
      "source": [
        "#elbow method\n",
        "'''\n",
        "inertia_arr = []\n",
        "k_range = range(2, 15)\n",
        "\n",
        "for k in k_range:\n",
        "\n",
        "    Kmeans2 = KMeans(n_clusters = k, random_state =10)\n",
        "    Kmeans2.fit(Z)\n",
        "    interia = Kmeans2.inertia_\n",
        "\n",
        "    #print('k:', k,'inertia:',interia)\n",
        "\n",
        "    inertia_arr.append(interia)\n",
        "\n",
        "inertia_arr = np.array(inertia_arr)\n",
        "\n",
        "plt.plot(k_range, inertia_arr)\n",
        "#k = 4 또는 5\n",
        "'''"
      ],
      "execution_count": null,
      "outputs": []
    },
    {
      "cell_type": "code",
      "metadata": {
        "id": "LdvybemHm8hS"
      },
      "source": [
        "#우선 outlier제거\n",
        "out= df_Sales.loc[df_Sales['Total_Sales']>= 40]\n",
        "dfin = df_Sales.drop(out.index)\n",
        "dfin.reset_index(inplace= True,drop= True)\n"
      ],
      "execution_count": null,
      "outputs": []
    },
    {
      "cell_type": "code",
      "metadata": {
        "id": "10GYnvRuc9y9"
      },
      "source": [
        "from sklearn.preprocessing import StandardScaler\n",
        "from sklearn.cluster import KMeans\n",
        "from sklearn.decomposition import PCA\n",
        "#Kmeans k = 5\n",
        "# Total Sales에 대하여 KMeans를 시행하여 상위 집단을 고른다.\n",
        "# elbow method를 통해 4 또는 5정도가 적합하다\n",
        "# Kmeans는 2d 이상만 받으므로 x=y에 놓여있다고 생각하기로 한다\n",
        "#KMeans는 outlier에 민감하기 때문에, 미리 제거한다.(Wii Sports 등 3개)\n",
        "scaler = StandardScaler()\n",
        "df_tt = pd.concat([dfin['Total_Sales'], dfin['Total_Sales']], axis = 1)\n",
        "Z = scaler.fit_transform(df_tt)\n",
        "kmeans = KMeans(n_clusters= 5 ,random_state= 10)\n",
        "K = kmeans.fit_transform(Z)\n",
        "klabel = pd.DataFrame(kmeans.labels_)\n",
        "klabel.columns = ['Label']\n",
        "\n",
        "#k값이 여러차원으로 나오기 때문에 차원축소를 위해 PCA를 시행\n",
        "pca = PCA(n_components= 2)\n",
        "P = pca.fit_transform(K)\n",
        "\n",
        "p_column = ['PC1','PC2','label']\n",
        "df_p = pd.DataFrame(P)\n",
        "df_p = pd.concat([df_p, klabel], axis =1)\n",
        "df_p.columns = p_column\n",
        "sns.scatterplot(data = df_p, x = 'PC1', y= 'PC2', hue = 'label')\n",
        "# array([0.70508712, 0.26103036])# 96%의 분산을 설명한다."
      ],
      "execution_count": null,
      "outputs": []
    },
    {
      "cell_type": "code",
      "metadata": {
        "id": "NcRwukM1tzga"
      },
      "source": [
        "dfin_label = pd.concat([dfin, klabel], axis = 1)\n",
        "df_top1 = dfin_label.loc[dfin_label['Label']== 3]\n",
        "df_top1 = df_top1.append(out)#이상치 추가\n",
        "\n",
        "df_top2 = dfin_label.loc[dfin_label['Label']== 1]\n",
        "df_top3 = dfin_label.loc[dfin_label['Label']== 4]\n",
        "\n"
      ],
      "execution_count": null,
      "outputs": []
    },
    {
      "cell_type": "code",
      "metadata": {
        "id": "OHLqTtBB8QXL"
      },
      "source": [
        "#상위권 게임 이름들\n",
        "a = df_top1.sort_values(by = 'Name').iloc[:16].reset_index()\n",
        "b=  df_top1.sort_values(by = 'Name').iloc[16:]\n",
        "b= b.T\n",
        "b['151'] = None\n",
        "b = b.T.reset_index()\n",
        "\n",
        "\n",
        "c = pd.concat([a['Name'],b['Name']], axis = 1)\n",
        "c\n",
        "#31개의 개임.\n",
        "#높은 충성도\n",
        "#시리즈 게임\n",
        "# 같은 게임사들"
      ],
      "execution_count": null,
      "outputs": []
    },
    {
      "cell_type": "code",
      "metadata": {
        "id": "WiMHEdWw7-_r"
      },
      "source": [
        "#이름으로 해당 데이터 가져옴\n",
        "df_top11 = df.loc[df['Name'].isin(df_top1['Name'])]\n",
        "df_top22 = df.loc[df['Name'].isin(df_top2['Name'])]\n",
        "df_top33 = df.loc[df['Name'].isin(df_top3['Name'])]"
      ],
      "execution_count": null,
      "outputs": []
    },
    {
      "cell_type": "code",
      "metadata": {
        "id": "4NiHZvGS2z8i"
      },
      "source": [
        "'''\n",
        "g = sns.barplot(data = df_top11, x = 'Year', y = 'Total_Sales', estimator= sum, ci = None)\n",
        "g.set_xticklabels(g.get_xticklabels(), rotation=45);\n",
        "''"
      ],
      "execution_count": null,
      "outputs": []
    },
    {
      "cell_type": "code",
      "metadata": {
        "id": "FdoU0hYM06-H"
      },
      "source": [
        "#상위 게임들의 개발사 이름 찾기\n",
        "df_pub_list3 = pd.concat([df_top11['Publisher'],\n",
        "                         df_top22['Publisher'],\n",
        "                         df_top33['Publisher']],\n",
        "                        axis = 0).unique()\n",
        "df_pub_list3 = np.delete(df_pub_list3,np.where(df_pub_list3 =='Unknown'))\n",
        "\n",
        "df_pub_list2 = pd.concat([df_top11['Publisher'],\n",
        "                         df_top22['Publisher']],\n",
        "                        axis = 0).unique()\n",
        "\n",
        "df_pub_list1 = df_top11['Publisher'].unique()"
      ],
      "execution_count": null,
      "outputs": []
    },
    {
      "cell_type": "code",
      "metadata": {
        "id": "wva1TSqe2lXo"
      },
      "source": [
        "#상위권 게임사들의 판매 점유율 구하기\n",
        "def top_publisher_Sales_ratio(df,df_pub_list):\n",
        "    \n",
        "    Pub_Sales = df.loc[df['Publisher'].isin(df_pub_list)]['Total_Sales'].sum()\n",
        "    Total_Sales = df['Total_Sales'].sum()\n",
        "    ratio = Pub_Sales/Total_Sales\n",
        "\n",
        "    return ratio\n",
        "    \n",
        "r_array = np.array([top_publisher_Sales_ratio(df, df_pub_list1),\n",
        "                    top_publisher_Sales_ratio(df, df_pub_list2),\n",
        "                    top_publisher_Sales_ratio(df, df_pub_list3)])\n",
        "\n",
        "xt = np.array(['top6', 'top14', 'top44'])\n",
        "colors = sns.color_palette(\"hls\", 3)\n",
        "gg = plt.bar(xt , r_array, color = colors)\n"
      ],
      "execution_count": null,
      "outputs": []
    },
    {
      "cell_type": "markdown",
      "metadata": {
        "id": "nf-me13p5SNE"
      },
      "source": [
        "#4. 지니계수와 시장의 크기를 고려한 장르 선정하기"
      ]
    },
    {
      "cell_type": "code",
      "metadata": {
        "id": "piWONUM6ozZ5"
      },
      "source": [
        "2012~2016지니계수 구하기\n",
        "최근 5년간 해당 장르의 총 판매량/지니계수\n",
        "상대적으로 평등하면서 시장의 크기도 고려한 지표\n"
      ],
      "execution_count": null,
      "outputs": []
    },
    {
      "cell_type": "code",
      "metadata": {
        "id": "MIkWLRfWqaHh"
      },
      "source": [
        "'''\n",
        "#total에 대한 상대도수 분석\n",
        "df_total = df.sort_values(by ='Total_Sales')\n",
        "df_total['Total_Sales']\n",
        "cumratio = np.cumsum(df_total['Total_Sales'])/df_total['Total_Sales'].sum()\n",
        "\n",
        "sns.lineplot(data = cumratio, x = np.arange(0,len(cumratio))/len(cumratio), y = cumratio)\n",
        "(0.5 - (cumratio/len(cumratio)).sum())/0.5\n",
        "'''"
      ],
      "execution_count": null,
      "outputs": []
    },
    {
      "cell_type": "code",
      "metadata": {
        "id": "lZfw6SSmpOFb"
      },
      "source": [
        "from sklearn.preprocessing import MinMaxScaler\n",
        "#시장크기 스케일링(음수값은 의미 없어보여서 min max로 설정, 0이 되는 값은 어차피 시장의 크기가 너무 작으므로 제외가능)\n",
        "\n",
        "\n",
        "df_g = df.loc[df['Year']>= 2012]\n",
        "df_g_Genre = df_g.pivot_table(values= 'Total_Sales', index = 'Genre',aggfunc= sum)\n",
        "\n",
        "#구분구적으로 구함 엄밀히 따지면 조금 다른 지니계수.\n",
        "def gini(genre_str):\n",
        "    df_gg = df_g.loc[df_g['Genre'] == genre_str].sort_values(by ='Total_Sales')\n",
        "    cumratio = np.cumsum(df_gg['Total_Sales'])/df_gg['Total_Sales'].sum()\n",
        "    gini = (0.5 - (cumratio/len(cumratio)).sum())/0.5\n",
        "\n",
        "    return gini\n",
        "\n",
        "df_g_Genre.reset_index(inplace = True)\n",
        "genre_list = df_g_Genre['Genre']\n",
        "\n",
        "scaler_g = MinMaxScaler()\n",
        "Z_g = scaler_g.fit_transform(df_g_Genre[['Total_Sales', 'Total_Sales']])\n",
        "\n",
        "gini_by_size = Z_g.T[0]/np.array(genre_list.apply(gini))\n",
        "df_g_Genre['gini'] = genre_list.apply(gini)\n",
        "df_g_Genre['Sales_by_gini'] = gini_by_size"
      ],
      "execution_count": null,
      "outputs": []
    },
    {
      "cell_type": "code",
      "metadata": {
        "id": "Iw0-vFI99ArU"
      },
      "source": [
        "#plot 장르별 지니계수와 총 판매량\n",
        "import matplotlib\n",
        "import matplotlib.pyplot as plt\n",
        "import seaborn as sns\n",
        "\n",
        "matplotlib.rc_file_defaults()\n",
        "ax1 = sns.set_style(style=None, rc=None )\n",
        "\n",
        "fig, ax1 = plt.subplots(figsize=(12,6))\n",
        "sns.barplot(data = df_g_Genre, x='Genre', y='Total_Sales')\n",
        "ax2 = ax1.twinx()\n",
        "sns.lineplot(data = df_g_Genre, x = 'Genre', y = 'gini')\n"
      ],
      "execution_count": null,
      "outputs": []
    },
    {
      "cell_type": "code",
      "metadata": {
        "id": "gSwYS0Qb6b3x"
      },
      "source": [
        "#두가지를 고려한 지표 플롯\n",
        "gb =sns.barplot(data = df_g_Genre, x = 'Genre', y = 'Sales_by_gini')\n",
        "gb.set_xticklabels(gb.get_xticklabels(), rotation=45);"
      ],
      "execution_count": null,
      "outputs": []
    }
  ]
}